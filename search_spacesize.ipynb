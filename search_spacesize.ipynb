{
 "cells": [
  {
   "cell_type": "code",
   "execution_count": 1,
   "metadata": {
    "scrolled": true
   },
   "outputs": [
    {
     "name": "stdout",
     "output_type": "stream",
     "text": [
      "Collecting unimod_mapper\n",
      "  Using cached unimod_mapper-0.6.8-py3-none-any.whl.metadata (1.3 kB)\n",
      "Collecting pytest (from unimod_mapper)\n",
      "  Downloading pytest-8.4.0-py3-none-any.whl.metadata (7.7 kB)\n",
      "Requirement already satisfied: requests in c:\\users\\robbi\\anaconda3\\envs\\py311_workshop\\lib\\site-packages (from unimod_mapper) (2.32.3)\n",
      "Collecting loguru (from unimod_mapper)\n",
      "  Using cached loguru-0.7.3-py3-none-any.whl.metadata (22 kB)\n",
      "Requirement already satisfied: pandas in c:\\users\\robbi\\anaconda3\\envs\\py311_workshop\\lib\\site-packages (from unimod_mapper) (2.2.3)\n",
      "Requirement already satisfied: numpy in c:\\users\\robbi\\anaconda3\\envs\\py311_workshop\\lib\\site-packages (from unimod_mapper) (1.26.0)\n",
      "Collecting chemical-composition (from unimod_mapper)\n",
      "  Using cached chemical_composition-1.0.6-py3-none-any.whl.metadata (1.2 kB)\n",
      "Collecting nose (from chemical-composition->unimod_mapper)\n",
      "  Using cached nose-1.3.7-py3-none-any.whl.metadata (1.7 kB)\n",
      "Requirement already satisfied: colorama>=0.3.4 in c:\\users\\robbi\\anaconda3\\envs\\py311_workshop\\lib\\site-packages (from loguru->unimod_mapper) (0.4.6)\n",
      "Collecting win32-setctime>=1.0.0 (from loguru->unimod_mapper)\n",
      "  Using cached win32_setctime-1.2.0-py3-none-any.whl.metadata (2.4 kB)\n",
      "Requirement already satisfied: python-dateutil>=2.8.2 in c:\\users\\robbi\\anaconda3\\envs\\py311_workshop\\lib\\site-packages (from pandas->unimod_mapper) (2.9.0.post0)\n",
      "Requirement already satisfied: pytz>=2020.1 in c:\\users\\robbi\\anaconda3\\envs\\py311_workshop\\lib\\site-packages (from pandas->unimod_mapper) (2025.1)\n",
      "Requirement already satisfied: tzdata>=2022.7 in c:\\users\\robbi\\anaconda3\\envs\\py311_workshop\\lib\\site-packages (from pandas->unimod_mapper) (2025.2)\n",
      "Collecting iniconfig>=1 (from pytest->unimod_mapper)\n",
      "  Using cached iniconfig-2.1.0-py3-none-any.whl.metadata (2.7 kB)\n",
      "Requirement already satisfied: packaging>=20 in c:\\users\\robbi\\anaconda3\\envs\\py311_workshop\\lib\\site-packages (from pytest->unimod_mapper) (24.2)\n",
      "Collecting pluggy<2,>=1.5 (from pytest->unimod_mapper)\n",
      "  Using cached pluggy-1.6.0-py3-none-any.whl.metadata (4.8 kB)\n",
      "Requirement already satisfied: pygments>=2.7.2 in c:\\users\\robbi\\anaconda3\\envs\\py311_workshop\\lib\\site-packages (from pytest->unimod_mapper) (2.19.1)\n",
      "Requirement already satisfied: charset-normalizer<4,>=2 in c:\\users\\robbi\\anaconda3\\envs\\py311_workshop\\lib\\site-packages (from requests->unimod_mapper) (3.4.1)\n",
      "Requirement already satisfied: idna<4,>=2.5 in c:\\users\\robbi\\anaconda3\\envs\\py311_workshop\\lib\\site-packages (from requests->unimod_mapper) (3.10)\n",
      "Requirement already satisfied: urllib3<3,>=1.21.1 in c:\\users\\robbi\\anaconda3\\envs\\py311_workshop\\lib\\site-packages (from requests->unimod_mapper) (2.3.0)\n",
      "Requirement already satisfied: certifi>=2017.4.17 in c:\\users\\robbi\\anaconda3\\envs\\py311_workshop\\lib\\site-packages (from requests->unimod_mapper) (2025.1.31)\n",
      "Requirement already satisfied: six>=1.5 in c:\\users\\robbi\\anaconda3\\envs\\py311_workshop\\lib\\site-packages (from python-dateutil>=2.8.2->pandas->unimod_mapper) (1.17.0)\n",
      "Using cached unimod_mapper-0.6.8-py3-none-any.whl (12 kB)\n",
      "Using cached chemical_composition-1.0.6-py3-none-any.whl (13 kB)\n",
      "Using cached loguru-0.7.3-py3-none-any.whl (61 kB)\n",
      "Downloading pytest-8.4.0-py3-none-any.whl (363 kB)\n",
      "Using cached iniconfig-2.1.0-py3-none-any.whl (6.0 kB)\n",
      "Using cached pluggy-1.6.0-py3-none-any.whl (20 kB)\n",
      "Using cached win32_setctime-1.2.0-py3-none-any.whl (4.1 kB)\n",
      "Using cached nose-1.3.7-py3-none-any.whl (154 kB)\n",
      "Installing collected packages: nose, win32-setctime, pluggy, iniconfig, pytest, loguru, chemical-composition, unimod_mapper\n",
      "Successfully installed chemical-composition-1.0.6 iniconfig-2.1.0 loguru-0.7.3 nose-1.3.7 pluggy-1.6.0 pytest-8.4.0 unimod_mapper-0.6.8 win32-setctime-1.2.0\n",
      "Requirement already satisfied: pyopenms in c:\\users\\robbi\\anaconda3\\envs\\py311_workshop\\lib\\site-packages (3.1.0)\n",
      "Requirement already satisfied: numpy in c:\\users\\robbi\\anaconda3\\envs\\py311_workshop\\lib\\site-packages (from pyopenms) (1.26.0)\n",
      "Requirement already satisfied: pandas in c:\\users\\robbi\\anaconda3\\envs\\py311_workshop\\lib\\site-packages (from pyopenms) (2.2.3)\n",
      "Requirement already satisfied: matplotlib>=3.5 in c:\\users\\robbi\\anaconda3\\envs\\py311_workshop\\lib\\site-packages (from pyopenms) (3.10.1)\n",
      "Requirement already satisfied: contourpy>=1.0.1 in c:\\users\\robbi\\anaconda3\\envs\\py311_workshop\\lib\\site-packages (from matplotlib>=3.5->pyopenms) (1.3.1)\n",
      "Requirement already satisfied: cycler>=0.10 in c:\\users\\robbi\\anaconda3\\envs\\py311_workshop\\lib\\site-packages (from matplotlib>=3.5->pyopenms) (0.12.1)\n",
      "Requirement already satisfied: fonttools>=4.22.0 in c:\\users\\robbi\\anaconda3\\envs\\py311_workshop\\lib\\site-packages (from matplotlib>=3.5->pyopenms) (4.56.0)\n",
      "Requirement already satisfied: kiwisolver>=1.3.1 in c:\\users\\robbi\\anaconda3\\envs\\py311_workshop\\lib\\site-packages (from matplotlib>=3.5->pyopenms) (1.4.8)\n",
      "Requirement already satisfied: packaging>=20.0 in c:\\users\\robbi\\anaconda3\\envs\\py311_workshop\\lib\\site-packages (from matplotlib>=3.5->pyopenms) (24.2)\n",
      "Requirement already satisfied: pillow>=8 in c:\\users\\robbi\\anaconda3\\envs\\py311_workshop\\lib\\site-packages (from matplotlib>=3.5->pyopenms) (11.1.0)\n",
      "Requirement already satisfied: pyparsing>=2.3.1 in c:\\users\\robbi\\anaconda3\\envs\\py311_workshop\\lib\\site-packages (from matplotlib>=3.5->pyopenms) (3.2.2)\n",
      "Requirement already satisfied: python-dateutil>=2.7 in c:\\users\\robbi\\anaconda3\\envs\\py311_workshop\\lib\\site-packages (from matplotlib>=3.5->pyopenms) (2.9.0.post0)\n",
      "Requirement already satisfied: pytz>=2020.1 in c:\\users\\robbi\\anaconda3\\envs\\py311_workshop\\lib\\site-packages (from pandas->pyopenms) (2025.1)\n",
      "Requirement already satisfied: tzdata>=2022.7 in c:\\users\\robbi\\anaconda3\\envs\\py311_workshop\\lib\\site-packages (from pandas->pyopenms) (2025.2)\n",
      "Requirement already satisfied: six>=1.5 in c:\\users\\robbi\\anaconda3\\envs\\py311_workshop\\lib\\site-packages (from python-dateutil>=2.7->matplotlib>=3.5->pyopenms) (1.17.0)\n"
     ]
    }
   ],
   "source": [
    "!pip install unimod_mapper\n",
    "!pip install pyopenms"
   ]
  },
  {
   "cell_type": "code",
   "execution_count": 2,
   "metadata": {},
   "outputs": [],
   "source": [
    "import pandas as pd\n",
    "import numpy as np\n",
    "from utils import tryptic_digest_pyopenms\n",
    "import itertools\n",
    "from tqdm import tqdm\n",
    "\n",
    "# Proteomics imports\n",
    "from unimod_mapper import UnimodMapper\n",
    "from pyteomics.mass.mass import std_aa_mass\n",
    "from collections import defaultdict\n",
    "\n",
    "from itertools import combinations\n",
    "from matplotlib import pyplot as plt"
   ]
  },
  {
   "cell_type": "code",
   "execution_count": 3,
   "metadata": {},
   "outputs": [],
   "source": [
    "def calculate_possibilities(possibilities,max_mods=3):\n",
    "    N = len(possibilities)  # Total number of positions\n",
    "    total = 0\n",
    "\n",
    "    # Iterate over the number of positions that can vary (0 to 3)\n",
    "    for k in range(0, max_mods+1):\n",
    "        # Generate all combinations of positions that can vary\n",
    "        for varying_positions in combinations(range(N), k):\n",
    "            # Calculate the product of possibilities for the chosen positions\n",
    "            product = 1\n",
    "            for pos in varying_positions:\n",
    "                product *= possibilities[pos]\n",
    "            # Add this product to the total sum\n",
    "            total += product\n",
    "\n",
    "    return total\n",
    "\n",
    "\n",
    "def modification_list_to_dict(all_amino_acids, modifications_search_space):\n",
    "    modification_dict = defaultdict(list)\n",
    "    for modification, amino_acids in modifications_search_space:\n",
    "        for aa in amino_acids:\n",
    "            modification_dict[aa].append(modification)\n",
    "\n",
    "    for aa in all_amino_acids:\n",
    "        modification_dict[aa].insert(0, \"\")\n",
    "\n",
    "    modification_dict = dict(modification_dict)\n",
    "    return modification_dict\n",
    "\n",
    "\n",
    "def apply_modifications(\n",
    "    peptides, modifications, charges=[2, 3, 4, 5], max_var_mods=3, # max_len=30, min_len=7\n",
    "):\n",
    "    unique_peptides = set([p[-1] for p in peptides])\n",
    "    tot_num = 0\n",
    "    tot_num_fragments = 0\n",
    "\n",
    "    for idx, peptide_seq in enumerate(unique_peptides):\n",
    "        #if len(peptide_seq) > max_len or len(peptide_seq) < min_len:\n",
    "        #    continue\n",
    "        all_pos = [len(modifications[aa]) - 1 for aa in peptide_seq]\n",
    "        poss = calculate_possibilities(all_pos, max_mods=max_var_mods) * len(charges)\n",
    "        tot_num += poss\n",
    "        tot_num_fragments += poss * len(peptide_seq) * 2\n",
    "\n",
    "    return tot_num"
   ]
  },
  {
   "cell_type": "code",
   "execution_count": 4,
   "metadata": {},
   "outputs": [],
   "source": [
    "import pandas as pd\n",
    "from itertools import product\n",
    "\n",
    "# Your modification data\n",
    "modifications_search_space = [\n",
    "    (\"[Oxidation]\", [\"M\"]),  # , \"P\"\n",
    "    (\"[OxidationP]\", [\"P\"]),  # , \"P\"\n",
    "    (\"[Carbamidomethyl]\", [\"C\"]),\n",
    "    (\"[Alkyl]\", [\"C\"]),\n",
    "    (\"[DeamidationN]\", [\"N\"]),\n",
    "    (\"[DeamidationQ]\", [\"Q\"]),\n",
    "    (\"[PhosphorylationS]\", [\"S\"]),\n",
    "    (\"[PhosphorylationT]\", [\"T\"]),\n",
    "    (\"[PhosphorylationY]\", [\"Y\"]),\n",
    "    (\"[Nitrosyl]\", [\"C\"]),\n",
    "    (\"[OxidationC]\", [\"C\"]),\n",
    "    (\"[Methyl]\", [\"K\"]),\n",
    "    (\"[MethylR]\", [\"R\"]),\n",
    "    (\"[Dimethyl]\", [\"K\"]),\n",
    "    (\"[DimethylR]\", [\"R\"]),\n",
    "    (\"[Trimethyl]\", [\"K\"]),\n",
    "    (\"[CitrullinationR]\", [\"R\"]),\n",
    "    (\"[Propionyl]\", [\"K\"]),\n",
    "    (\"[Butyryl]\", [\"K\"]),\n",
    "    (\"[Malonyl]\", [\"K\"]),\n",
    "    (\"[Succinyl]\", [\"K\"]),\n",
    "    (\"[Glutarylation]\", [\"K\"]),\n",
    "    (\"[Crotonyl]\", [\"K\"]),\n",
    "    (\"[Hydroxyisobutyryl]\", [\"K\"]),\n",
    "    (\"[Biotin]\", [\"K\"]),\n",
    "    (\"[GG]\", [\"K\"]),\n",
    "    (\"[NitroY]\", [\"Y\"]),\n",
    "]\n",
    "\n",
    "\n",
    "charge_min_range = range(1, 3)\n",
    "charge_max_range = [5] #range(2, 6)\n",
    "maximum_length_range = [35] #range(30, 50, 2)\n",
    "max_var_mods_range = [3] #range(1, 4)\n",
    "missed_cleavages = [2] #range(0,4)\n",
    "num_var_mods = range(0, len(modifications_search_space))\n",
    "\n",
    "combinations_df = product(\n",
    "    charge_min_range,\n",
    "    charge_max_range,\n",
    "    maximum_length_range,\n",
    "    max_var_mods_range,\n",
    "    missed_cleavages,\n",
    "    num_var_mods,\n",
    ")\n",
    "\n",
    "df = pd.DataFrame(\n",
    "    combinations_df,\n",
    "    columns=[\n",
    "        \"charge_min\",\n",
    "        \"charge_max\",\n",
    "        \"maximum_length\",\n",
    "        \"max_var_mods\",\n",
    "        \"missed_cleavages\",\n",
    "        \"num_var_mods\",\n",
    "    ],\n",
    ")"
   ]
  },
  {
   "cell_type": "code",
   "execution_count": 5,
   "metadata": {},
   "outputs": [],
   "source": [
    "fasta_analyze = \"fasta/human_22032024.fasta\"\n",
    "\n",
    "peptides = tryptic_digest_pyopenms(\n",
    "    fasta_analyze,\n",
    "    min_len=6,\n",
    "    max_len=35,\n",
    "    missed_cleavages=int(2),\n",
    ")"
   ]
  },
  {
   "cell_type": "code",
   "execution_count": 6,
   "metadata": {},
   "outputs": [
    {
     "name": "stderr",
     "output_type": "stream",
     "text": [
      "0it [00:00, ?it/s]"
     ]
    },
    {
     "name": "stdout",
     "output_type": "stream",
     "text": [
      "0 charge_min           1\n",
      "charge_max           5\n",
      "maximum_length      35\n",
      "max_var_mods         3\n",
      "missed_cleavages     2\n",
      "num_var_mods         0\n",
      "Name: 0, dtype: int64\n"
     ]
    },
    {
     "name": "stderr",
     "output_type": "stream",
     "text": [
      "1it [15:12, 912.39s/it]"
     ]
    },
    {
     "name": "stdout",
     "output_type": "stream",
     "text": [
      "Total number of unique peptidoforms: 26171712\n",
      "1 charge_min           1\n",
      "charge_max           5\n",
      "maximum_length      35\n",
      "max_var_mods         3\n",
      "missed_cleavages     2\n",
      "num_var_mods         1\n",
      "Name: 1, dtype: int64\n"
     ]
    },
    {
     "name": "stderr",
     "output_type": "stream",
     "text": [
      "2it [30:26, 913.34s/it]"
     ]
    },
    {
     "name": "stdout",
     "output_type": "stream",
     "text": [
      "Total number of unique peptidoforms: 85100452\n",
      "2 charge_min           1\n",
      "charge_max           5\n",
      "maximum_length      35\n",
      "max_var_mods         3\n",
      "missed_cleavages     2\n",
      "num_var_mods         2\n",
      "Name: 2, dtype: int64\n"
     ]
    },
    {
     "name": "stderr",
     "output_type": "stream",
     "text": [
      "3it [45:21, 904.82s/it]"
     ]
    },
    {
     "name": "stdout",
     "output_type": "stream",
     "text": [
      "Total number of unique peptidoforms: 122117392\n",
      "3 charge_min           1\n",
      "charge_max           5\n",
      "maximum_length      35\n",
      "max_var_mods         3\n",
      "missed_cleavages     2\n",
      "num_var_mods         3\n",
      "Name: 3, dtype: int64\n"
     ]
    },
    {
     "name": "stderr",
     "output_type": "stream",
     "text": [
      "4it [1:00:26, 905.12s/it]"
     ]
    },
    {
     "name": "stdout",
     "output_type": "stream",
     "text": [
      "Total number of unique peptidoforms: 183605908\n",
      "4 charge_min           1\n",
      "charge_max           5\n",
      "maximum_length      35\n",
      "max_var_mods         3\n",
      "missed_cleavages     2\n",
      "num_var_mods         4\n",
      "Name: 4, dtype: int64\n"
     ]
    },
    {
     "name": "stderr",
     "output_type": "stream",
     "text": [
      "5it [1:15:29, 904.13s/it]"
     ]
    },
    {
     "name": "stdout",
     "output_type": "stream",
     "text": [
      "Total number of unique peptidoforms: 283111296\n",
      "5 charge_min           1\n",
      "charge_max           5\n",
      "maximum_length      35\n",
      "max_var_mods         3\n",
      "missed_cleavages     2\n",
      "num_var_mods         5\n",
      "Name: 5, dtype: int64\n"
     ]
    },
    {
     "name": "stderr",
     "output_type": "stream",
     "text": [
      "6it [1:30:36, 905.23s/it]"
     ]
    },
    {
     "name": "stdout",
     "output_type": "stream",
     "text": [
      "Total number of unique peptidoforms: 472291348\n",
      "6 charge_min           1\n",
      "charge_max           5\n",
      "maximum_length      35\n",
      "max_var_mods         3\n",
      "missed_cleavages     2\n",
      "num_var_mods         6\n",
      "Name: 6, dtype: int64\n"
     ]
    },
    {
     "name": "stderr",
     "output_type": "stream",
     "text": [
      "7it [1:46:08, 913.97s/it]"
     ]
    },
    {
     "name": "stdout",
     "output_type": "stream",
     "text": [
      "Total number of unique peptidoforms: 1015066472\n",
      "7 charge_min           1\n",
      "charge_max           5\n",
      "maximum_length      35\n",
      "max_var_mods         3\n",
      "missed_cleavages     2\n",
      "num_var_mods         7\n",
      "Name: 7, dtype: int64\n"
     ]
    },
    {
     "name": "stderr",
     "output_type": "stream",
     "text": [
      "8it [2:01:28, 915.94s/it]"
     ]
    },
    {
     "name": "stdout",
     "output_type": "stream",
     "text": [
      "Total number of unique peptidoforms: 1522620116\n",
      "8 charge_min           1\n",
      "charge_max           5\n",
      "maximum_length      35\n",
      "max_var_mods         3\n",
      "missed_cleavages     2\n",
      "num_var_mods         8\n",
      "Name: 8, dtype: int64\n"
     ]
    },
    {
     "name": "stderr",
     "output_type": "stream",
     "text": [
      "9it [2:17:59, 939.52s/it]"
     ]
    },
    {
     "name": "stdout",
     "output_type": "stream",
     "text": [
      "Total number of unique peptidoforms: 1830453760\n",
      "9 charge_min           1\n",
      "charge_max           5\n",
      "maximum_length      35\n",
      "max_var_mods         3\n",
      "missed_cleavages     2\n",
      "num_var_mods         9\n",
      "Name: 9, dtype: int64\n"
     ]
    },
    {
     "name": "stderr",
     "output_type": "stream",
     "text": [
      "10it [2:33:38, 939.37s/it]"
     ]
    },
    {
     "name": "stdout",
     "output_type": "stream",
     "text": [
      "Total number of unique peptidoforms: 2191959180\n",
      "10 charge_min           1\n",
      "charge_max           5\n",
      "maximum_length      35\n",
      "max_var_mods         3\n",
      "missed_cleavages     2\n",
      "num_var_mods        10\n",
      "Name: 10, dtype: int64\n"
     ]
    },
    {
     "name": "stderr",
     "output_type": "stream",
     "text": [
      "11it [2:49:36, 944.81s/it]"
     ]
    },
    {
     "name": "stdout",
     "output_type": "stream",
     "text": [
      "Total number of unique peptidoforms: 2626888376\n",
      "11 charge_min           1\n",
      "charge_max           5\n",
      "maximum_length      35\n",
      "max_var_mods         3\n",
      "missed_cleavages     2\n",
      "num_var_mods        11\n",
      "Name: 11, dtype: int64\n"
     ]
    },
    {
     "name": "stderr",
     "output_type": "stream",
     "text": [
      "11it [3:00:36, 985.15s/it]\n"
     ]
    },
    {
     "ename": "KeyboardInterrupt",
     "evalue": "",
     "output_type": "error",
     "traceback": [
      "\u001b[31m---------------------------------------------------------------------------\u001b[39m",
      "\u001b[31mKeyboardInterrupt\u001b[39m                         Traceback (most recent call last)",
      "\u001b[36mCell\u001b[39m\u001b[36m \u001b[39m\u001b[32mIn[6]\u001b[39m\u001b[32m, line 25\u001b[39m\n\u001b[32m     20\u001b[39m modification_dict = modification_list_to_dict(\n\u001b[32m     21\u001b[39m     all_amino_acids, modifications_search_space[\u001b[32m0\u001b[39m:i+\u001b[32m1\u001b[39m]\n\u001b[32m     22\u001b[39m )\n\u001b[32m     24\u001b[39m \u001b[38;5;66;03m# Apply modifications to peptides\u001b[39;00m\n\u001b[32m---> \u001b[39m\u001b[32m25\u001b[39m all_peptidoforms = \u001b[43mapply_modifications\u001b[49m\u001b[43m(\u001b[49m\n\u001b[32m     26\u001b[39m \u001b[43m    \u001b[49m\u001b[43mpeptides\u001b[49m\u001b[43m,\u001b[49m\n\u001b[32m     27\u001b[39m \u001b[43m    \u001b[49m\u001b[43mmodification_dict\u001b[49m\u001b[43m,\u001b[49m\n\u001b[32m     28\u001b[39m \u001b[43m    \u001b[49m\u001b[43mcharges\u001b[49m\u001b[43m=\u001b[49m\u001b[38;5;28;43mlist\u001b[39;49m\u001b[43m(\u001b[49m\u001b[38;5;28;43mrange\u001b[39;49m\u001b[43m(\u001b[49m\u001b[43mr\u001b[49m\u001b[43m[\u001b[49m\u001b[33;43m\"\u001b[39;49m\u001b[33;43mcharge_min\u001b[39;49m\u001b[33;43m\"\u001b[39;49m\u001b[43m]\u001b[49m\u001b[43m,\u001b[49m\u001b[43m \u001b[49m\u001b[43mr\u001b[49m\u001b[43m[\u001b[49m\u001b[33;43m\"\u001b[39;49m\u001b[33;43mcharge_max\u001b[39;49m\u001b[33;43m\"\u001b[39;49m\u001b[43m]\u001b[49m\u001b[43m)\u001b[49m\u001b[43m)\u001b[49m\u001b[43m,\u001b[49m\n\u001b[32m     29\u001b[39m \u001b[43m    \u001b[49m\u001b[43mmax_var_mods\u001b[49m\u001b[43m=\u001b[49m\u001b[43mr\u001b[49m\u001b[43m[\u001b[49m\u001b[33;43m\"\u001b[39;49m\u001b[33;43mmax_var_mods\u001b[39;49m\u001b[33;43m\"\u001b[39;49m\u001b[43m]\u001b[49m\u001b[43m,\u001b[49m\n\u001b[32m     30\u001b[39m \u001b[43m\u001b[49m\u001b[43m)\u001b[49m\n\u001b[32m     31\u001b[39m \u001b[38;5;28mprint\u001b[39m(\u001b[33mf\u001b[39m\u001b[33m\"\u001b[39m\u001b[33mTotal number of unique peptidoforms: \u001b[39m\u001b[38;5;132;01m{\u001b[39;00mall_peptidoforms\u001b[38;5;132;01m}\u001b[39;00m\u001b[33m\"\u001b[39m)\n\u001b[32m     32\u001b[39m search_space_list.append(all_peptidoforms)\n",
      "\u001b[36mCell\u001b[39m\u001b[36m \u001b[39m\u001b[32mIn[3]\u001b[39m\u001b[32m, line 43\u001b[39m, in \u001b[36mapply_modifications\u001b[39m\u001b[34m(peptides, modifications, charges, max_var_mods)\u001b[39m\n\u001b[32m     39\u001b[39m \u001b[38;5;28;01mfor\u001b[39;00m idx, peptide_seq \u001b[38;5;129;01min\u001b[39;00m \u001b[38;5;28menumerate\u001b[39m(unique_peptides):\n\u001b[32m     40\u001b[39m     \u001b[38;5;66;03m#if len(peptide_seq) > max_len or len(peptide_seq) < min_len:\u001b[39;00m\n\u001b[32m     41\u001b[39m     \u001b[38;5;66;03m#    continue\u001b[39;00m\n\u001b[32m     42\u001b[39m     all_pos = [\u001b[38;5;28mlen\u001b[39m(modifications[aa]) - \u001b[32m1\u001b[39m \u001b[38;5;28;01mfor\u001b[39;00m aa \u001b[38;5;129;01min\u001b[39;00m peptide_seq]\n\u001b[32m---> \u001b[39m\u001b[32m43\u001b[39m     poss = \u001b[43mcalculate_possibilities\u001b[49m\u001b[43m(\u001b[49m\u001b[43mall_pos\u001b[49m\u001b[43m,\u001b[49m\u001b[43m \u001b[49m\u001b[43mmax_mods\u001b[49m\u001b[43m=\u001b[49m\u001b[43mmax_var_mods\u001b[49m\u001b[43m)\u001b[49m * \u001b[38;5;28mlen\u001b[39m(charges)\n\u001b[32m     44\u001b[39m     tot_num += poss\n\u001b[32m     45\u001b[39m     tot_num_fragments += poss * \u001b[38;5;28mlen\u001b[39m(peptide_seq) * \u001b[32m2\u001b[39m\n",
      "\u001b[36mCell\u001b[39m\u001b[36m \u001b[39m\u001b[32mIn[3]\u001b[39m\u001b[32m, line 12\u001b[39m, in \u001b[36mcalculate_possibilities\u001b[39m\u001b[34m(possibilities, max_mods)\u001b[39m\n\u001b[32m     10\u001b[39m product = \u001b[32m1\u001b[39m\n\u001b[32m     11\u001b[39m \u001b[38;5;28;01mfor\u001b[39;00m pos \u001b[38;5;129;01min\u001b[39;00m varying_positions:\n\u001b[32m---> \u001b[39m\u001b[32m12\u001b[39m     product *= possibilities[pos]\n\u001b[32m     13\u001b[39m \u001b[38;5;66;03m# Add this product to the total sum\u001b[39;00m\n\u001b[32m     14\u001b[39m total += product\n",
      "\u001b[31mKeyboardInterrupt\u001b[39m: "
     ]
    }
   ],
   "source": [
    "fasta_analyze = \"fasta/human_22032024.fasta\"\n",
    "\n",
    "# Define all standard amino acids\n",
    "all_amino_acids = set(\n",
    "    \"ABCDEFGHIKLMNPQRSTUVWXY\"\n",
    ")  # 20 standard amino acids + additional ones that can be in the fasta, they are ignored if they are not in there\n",
    "\n",
    "search_space_list = []\n",
    "for idx,r in tqdm(df.iterrows()):\n",
    "    print(idx,r)\n",
    "    i = r[\"num_var_mods\"]\n",
    "    # Read peptides from fasta using a tryptic digest function\n",
    "    peptides = tryptic_digest_pyopenms(\n",
    "        fasta_analyze,\n",
    "        min_len=6,\n",
    "        max_len=r[\"maximum_length\"],\n",
    "        missed_cleavages=int(r[\"missed_cleavages\"]),\n",
    "    )\n",
    "\n",
    "    modification_dict = modification_list_to_dict(\n",
    "        all_amino_acids, modifications_search_space[0:i+1]\n",
    "    )\n",
    "\n",
    "    # Apply modifications to peptides\n",
    "    all_peptidoforms = apply_modifications(\n",
    "        peptides,\n",
    "        modification_dict,\n",
    "        charges=list(range(r[\"charge_min\"], r[\"charge_max\"])),\n",
    "        max_var_mods=r[\"max_var_mods\"],\n",
    "    )\n",
    "    print(f\"Total number of unique peptidoforms: {all_peptidoforms}\")\n",
    "    search_space_list.append(all_peptidoforms)\n",
    "    \n",
    "df[\"search_space\"] = search_space_list\n",
    "df.to_csv(\"data/human_searchpace.csv\")"
   ]
  },
  {
   "cell_type": "code",
   "execution_count": null,
   "metadata": {},
   "outputs": [],
   "source": [
    "df = pd.read_csv(\"data/human_searchpace.csv\")"
   ]
  },
  {
   "cell_type": "code",
   "execution_count": null,
   "metadata": {},
   "outputs": [],
   "source": [
    "sub_df_search_space = df[df[\"charge_min\"] == 1]"
   ]
  },
  {
   "cell_type": "code",
   "execution_count": null,
   "metadata": {},
   "outputs": [],
   "source": [
    "plt.scatter(sub_df_search_space[\"num_var_mods\"], sub_df_search_space[\"search_space\"],s=20,alpha=0.5)\n",
    "plt.plot(sub_df_search_space[\"num_var_mods\"], sub_df_search_space[\"search_space\"])\n",
    "plt.show()\n",
    "# plt.scatter(\n",
    "#    sub_df_search_space[\"num_var_mods\"],\n",
    "#    sub_df_search_space[\"search_space\"]\n",
    "#    * (sum([len(p[-1]) for p in peptides]) / len(peptides)),\n",
    "# )"
   ]
  },
  {
   "cell_type": "code",
   "execution_count": null,
   "metadata": {},
   "outputs": [],
   "source": [
    "plt.scatter(\n",
    "    sub_df_search_space[\"num_var_mods\"],\n",
    "    sub_df_search_space[\"search_space\"],\n",
    "    s=20,\n",
    "    alpha=0.5,\n",
    "    label=\"Number of peptidoforms\",\n",
    ")\n",
    "plt.plot(sub_df_search_space[\"num_var_mods\"], sub_df_search_space[\"search_space\"])\n",
    "\n",
    "#factor_fragments = ((sum([len(p[-1]) for p in peptides]) / len(peptides))) * 2\n",
    "\n",
    "#plt.scatter(\n",
    "#    sub_df_search_space[\"num_var_mods\"],\n",
    "#    sub_df_search_space[\"search_space\"] * factor_fragments,\n",
    "#    s=20,\n",
    "#    alpha=0.5,\n",
    "#    label=\"Number of fragment ions\",\n",
    "#)\n",
    "\n",
    "#plt.plot(\n",
    "#    sub_df_search_space[\"num_var_mods\"],\n",
    "#    sub_df_search_space[\"search_space\"] * factor_fragments,\n",
    "#)\n",
    "\n",
    "ax = plt.gca()\n",
    "ax.set_yscale(\"log\")\n",
    "\n",
    "plt.xlabel(\"Number of variable modifications\")\n",
    "plt.ylabel(\"Number of peptidoforms/fragment ions\")\n",
    "\n",
    "plt.legend()\n",
    "plt.savefig(\"img/peptidoforms_num_fragments.svg\")\n",
    "plt.show()"
   ]
  },
  {
   "cell_type": "code",
   "execution_count": null,
   "metadata": {},
   "outputs": [],
   "source": [
    "sub_df_search_space"
   ]
  },
  {
   "cell_type": "code",
   "execution_count": null,
   "metadata": {},
   "outputs": [],
   "source": []
  },
  {
   "cell_type": "code",
   "execution_count": null,
   "metadata": {},
   "outputs": [],
   "source": []
  }
 ],
 "metadata": {
  "kernelspec": {
   "display_name": "Python 3 (ipykernel)",
   "language": "python",
   "name": "python3"
  },
  "language_info": {
   "codemirror_mode": {
    "name": "ipython",
    "version": 3
   },
   "file_extension": ".py",
   "mimetype": "text/x-python",
   "name": "python",
   "nbconvert_exporter": "python",
   "pygments_lexer": "ipython3",
   "version": "3.11.11"
  }
 },
 "nbformat": 4,
 "nbformat_minor": 4
}
