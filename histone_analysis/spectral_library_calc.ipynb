{
 "cells": [
  {
   "cell_type": "code",
   "execution_count": 1,
   "id": "e1b6e337",
   "metadata": {},
   "outputs": [],
   "source": [
    "import pandas as pd\n",
    "from matplotlib import pyplot as plt\n",
    "\n",
    "import spectrum_utils.spectrum as sus\n",
    "import spectrum_utils.plot as sup\n",
    "from pyteomics.usi import USI, proxi\n",
    "\n",
    "from pyteomics import mgf\n",
    "import pandas as pd\n",
    "import os\n",
    "from scipy.stats import pearsonr\n",
    "import numpy as np"
   ]
  },
  {
   "cell_type": "code",
   "execution_count": 2,
   "id": "c8a2d4f4",
   "metadata": {},
   "outputs": [
    {
     "name": "stderr",
     "output_type": "stream",
     "text": [
      "C:\\Users\\robbi\\AppData\\Local\\Temp\\ipykernel_46904\\2830886835.py:1: DtypeWarning: Columns (16) have mixed types. Specify dtype option on import or set low_memory=False.\n",
      "  df = pd.read_csv(\"histone_library.tsv\",sep=\"\\t\")\n"
     ]
    }
   ],
   "source": [
    "df = pd.read_csv(\"histone_library.tsv\",sep=\"\\t\")"
   ]
  },
  {
   "cell_type": "code",
   "execution_count": 5,
   "id": "41f6d5fb",
   "metadata": {},
   "outputs": [],
   "source": [
    "def rewrite_proforma(input_str):\n",
    "    if input_str.startswith(\"(\"):\n",
    "        input_str = \"!\"+input_str\n",
    "        input_str = input_str.replace(\"!(UniMod:58)\",\"[Propionyl]-\")\n",
    "    input_str = input_str.replace(\"(UniMod:58)\",\"[Propionyl]\")\n",
    "    input_str = input_str.replace(\"(UniMod:35)\",\"[Oxidation]\")\n",
    "    input_str = input_str.replace(\"(UniMod:1289)\",\"[Butyryl]\")\n",
    "    input_str = input_str.replace(\"(UniMod:1)\",\"[Acetyl]\")\n",
    "    \n",
    "    return input_str\n",
    "\n",
    "df[\"somewhat_proforma\"] = df[\"PeptideGroupLabel\"].apply(rewrite_proforma)"
   ]
  },
  {
   "cell_type": "code",
   "execution_count": 6,
   "id": "e7aa8459",
   "metadata": {},
   "outputs": [],
   "source": [
    "spectra_location = \"spectra/\"\n",
    "all_df = []\n",
    "\n",
    "for f in os.listdir(spectra_location):\n",
    "    mgf_file = os.path.join(spectra_location,f)\n",
    "    # Extract the single spectrum\n",
    "\n",
    "    # Parse the MGF file\n",
    "    spectra = mgf.read(mgf_file)\n",
    "    \n",
    "    spectrum = next(spectra)\n",
    "    \n",
    "    # Create a DataFrame from the m/z and intensity values\n",
    "    df_msfragger = pd.DataFrame(spectrum['m/z array'], columns=['m/z'])\n",
    "    df_msfragger['intensity'] = spectrum['intensity array']\n",
    "    df_msfragger['title'] = spectrum[\"params\"][\"title\"].replace(\"NH2-\",\"\").replace(\"-COOH\",\"\").replace(\"<56.0262 of K>\",\"[Propionyl]\").replace(\"<15.9949 of M>\",\"[Oxidation]\").replace(\"<70.0419 of K>\",\"[Butyryl]\").replace(\"42.0106\",\"[Acetyl]\").replace(\"56.0262-\",\"[Propionyl]-\").split(\" \")[1]\n",
    "    df_msfragger['charge'] = list(spectrum['params']['charge'])[0]\n",
    "\n",
    "    all_df.append(df_msfragger)\n",
    "    \n",
    "df_msfragger = pd.concat(all_df)"
   ]
  },
  {
   "cell_type": "code",
   "execution_count": 10,
   "id": "747bb503",
   "metadata": {},
   "outputs": [],
   "source": [
    "def get_correlation(annotations,mz,intensity):\n",
    "    mzs_new = [i for annotation, i in zip(annotations,mz) if len(annotation.fragment_annotations) > 0]\n",
    "    intensities_new = [i for annotation, i in zip(annotations,intensity) if len(annotation.fragment_annotations) > 0]\n",
    "    annotations_new = [str(annotation.fragment_annotations[0]) for annotation in annotations if len(annotation.fragment_annotations) > 0]\n",
    "    return mzs_new, intensities_new, annotations_new\n",
    "\n",
    "def calculate_spectral_angle(true, pred, epsilon=1e-7):\n",
    "    \"\"\"\n",
    "    Calculate square root normalized spectral angle.\n",
    " \n",
    "    See https://doi.org/10.1074/mcp.O113.036475.\n",
    "    \"\"\"\n",
    "    pred_norm = pred / max(np.linalg.norm(pred), epsilon)\n",
    "    true_norm = true / max(np.linalg.norm(true), epsilon)\n",
    "    spectral_angle = 1 - (2 * np.arccos(np.dot(pred_norm, true_norm)) / np.pi)\n",
    "    return spectral_angle\n",
    " \n",
    "def get_correlation_values(values1_mz, values1_intensity, values1_annotations, values2_mz, values2_intensity, values2_annotations):\n",
    "    # Creating dataframes\n",
    "    df1 = pd.DataFrame({'mz': values1_mz, 'intensity': values1_intensity, 'annotation': values1_annotations})\n",
    "    df2 = pd.DataFrame({'mz': values2_mz, 'intensity': values2_intensity, 'annotation': values2_annotations})\n",
    "\n",
    "    # Strip the tolerance from the annotations\n",
    "    df1['annotation'] = df1['annotation'].apply(lambda x: x.split('/')[0])\n",
    "    df2['annotation'] = df2['annotation'].apply(lambda x: x.split('/')[0])\n",
    "\n",
    "    # Merging dataframes on annotations after stripping tolerance\n",
    "    merged_df = pd.merge(df1, df2, on='annotation', how='outer', suffixes=('_1', '_2'))\n",
    "    merged_df.fillna(0.0,inplace=True)\n",
    "    \n",
    "    # Calculating Pearson correlation\n",
    "    pearson_corr, _ = pearsonr(merged_df['intensity_1'], merged_df['intensity_2'])\n",
    "    \n",
    "    # Intensities from the merged dataframe\n",
    "    intensities_1 = merged_df['intensity_1'].to_numpy()\n",
    "    intensities_2 = merged_df['intensity_2'].to_numpy()\n",
    "    \n",
    "    spectral_angle = calculate_spectral_angle(intensities_1, intensities_2)\n",
    "    \n",
    "    return pearson_corr, spectral_angle\n",
    "\n",
    "spec_angle_all = []\n",
    "pearson_r_all = []\n",
    "\n",
    "for peptide in set(list(df_msfragger[\"title\"])):\n",
    "    sub_df_msfragger = df_msfragger[df_msfragger[\"title\"] == peptide]\n",
    "    msfragger_mz = sub_df_msfragger['m/z']\n",
    "    msfragger_intensity = sub_df_msfragger['intensity']\n",
    "    msfragger_charge = sub_df_msfragger[\"charge\"].iloc[0]\n",
    "\n",
    "    library_df = df[(df[\"somewhat_proforma\"] == peptide) & (df[\"PrecursorCharge\"] == msfragger_charge)]\n",
    "    library_intensity = library_df[\"LibraryIntensity\"]\n",
    "    library_mz = library_df[\"ProductMz\"]\n",
    "\n",
    "    \n",
    "    spectrum_obj1 = sus.MsmsSpectrum(\n",
    "        peptide,\n",
    "        0.0,\n",
    "        2,\n",
    "        library_mz,\n",
    "        library_intensity,\n",
    "        #peptide=peptide\n",
    "    )\n",
    "    spectrum_obj1.annotate_proforma(\n",
    "        peptide,\n",
    "        5,\n",
    "        \"ppm\")\n",
    "    \n",
    "    spectrum_obj2 = sus.MsmsSpectrum(\n",
    "        peptide,\n",
    "        0.0,\n",
    "        2,\n",
    "        msfragger_mz,\n",
    "        msfragger_intensity,\n",
    "        #peptide=peptide\n",
    "    )\n",
    "    spectrum_obj2.annotate_proforma(\n",
    "        peptide,\n",
    "        30,\n",
    "        \"ppm\")\n",
    "    \n",
    "    mzs_new, intensities_new, annotations_new = get_correlation(spectrum_obj1.annotation,spectrum_obj1.mz,spectrum_obj1.intensity)\n",
    "    \n",
    "    if len(mzs_new) == 0:\n",
    "        continue\n",
    "    \n",
    "    spectrum_obj1 = sus.MsmsSpectrum(\n",
    "        peptide,\n",
    "        0.0,\n",
    "        2,\n",
    "        mzs_new,\n",
    "        intensities_new,\n",
    "    )\n",
    "    spectrum_obj1.annotate_proforma(\n",
    "        peptide,\n",
    "        5,\n",
    "        \"ppm\")\n",
    "    \n",
    "    mzs_new2, intensities_new2, annotations_new2 = get_correlation(spectrum_obj2.annotation,spectrum_obj2.mz,spectrum_obj2.intensity)\n",
    "\n",
    "    spectrum_obj2 = sus.MsmsSpectrum(\n",
    "        peptide,\n",
    "        0.0,\n",
    "        2,\n",
    "        mzs_new2,\n",
    "        intensities_new2,\n",
    "    )\n",
    "    \n",
    "    spectrum_obj2.annotate_proforma(\n",
    "        peptide,\n",
    "        30,\n",
    "        \"ppm\")\n",
    "    \n",
    "    pearson_r, spec_angle = get_correlation_values(mzs_new, intensities_new, annotations_new, mzs_new2, intensities_new2, annotations_new2)\n",
    "    spec_angle_all.append(spec_angle)\n",
    "    pearson_r_all.append(pearson_r)"
   ]
  },
  {
   "cell_type": "code",
   "execution_count": 8,
   "id": "84a737c3",
   "metadata": {},
   "outputs": [
    {
     "data": {
      "image/png": "[encoded data removed]",
      "text/plain": [
       "<Figure size 200x600 with 1 Axes>"
      ]
     },
     "metadata": {},
     "output_type": "display_data"
    }
   ],
   "source": [
    "import matplotlib.pyplot as plt\n",
    "\n",
    "# Create a boxplot\n",
    "fig, ax = plt.subplots(figsize=(2, 6))\n",
    "plt.boxplot(spec_angle_all, vert=True)\n",
    "plt.title('Peptides with propionyl or butyryl')\n",
    "plt.ylabel('Spectral angle')\n",
    "plt.ylim(0,1.0)\n",
    "plt.show()"
   ]
  },
  {
   "cell_type": "code",
   "execution_count": 9,
   "id": "2088f0bd",
   "metadata": {},
   "outputs": [
    {
     "data": {
      "image/png": "[encoded data removed]",
      "text/plain": [
       "<Figure size 200x600 with 1 Axes>"
      ]
     },
     "metadata": {},
     "output_type": "display_data"
    }
   ],
   "source": [
    "# Create a boxplot\n",
    "fig, ax = plt.subplots(figsize=(2, 6))\n",
    "plt.boxplot(pearson_r_all, vert=True)\n",
    "plt.title('Peptides with propionyl or butyryl')\n",
    "plt.ylabel('Pearson correlation')\n",
    "plt.ylim(0,1.0)\n",
    "plt.show()"
   ]
  }
 ],
 "metadata": {
  "kernelspec": {
   "display_name": "Python 3 (ipykernel)",
   "language": "python",
   "name": "python3"
  },
  "language_info": {
   "codemirror_mode": {
    "name": "ipython",
    "version": 3
   },
   "file_extension": ".py",
   "mimetype": "text/x-python",
   "name": "python",
   "nbconvert_exporter": "python",
   "pygments_lexer": "ipython3",
   "version": "3.10.12"
  }
 },
 "nbformat": 4,
 "nbformat_minor": 5
}
