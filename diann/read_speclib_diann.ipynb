{
 "cells": [
  {
   "cell_type": "code",
   "execution_count": 1,
   "metadata": {},
   "outputs": [
    {
     "ename": "ModuleNotFoundError",
     "evalue": "No module named 'mzml_pdiff'",
     "output_type": "error",
     "traceback": [
      "\u001b[1;31m---------------------------------------------------------------------------\u001b[0m",
      "\u001b[1;31mModuleNotFoundError\u001b[0m                       Traceback (most recent call last)",
      "Cell \u001b[1;32mIn[1], line 11\u001b[0m\n\u001b[0;32m      8\u001b[0m \u001b[38;5;28;01mfrom\u001b[39;00m \u001b[38;5;21;01mmatplotlib\u001b[39;00m \u001b[38;5;28;01mimport\u001b[39;00m pyplot \u001b[38;5;28;01mas\u001b[39;00m plt\n\u001b[0;32m      9\u001b[0m \u001b[38;5;28;01mimport\u001b[39;00m \u001b[38;5;21;01mpickle\u001b[39;00m\n\u001b[1;32m---> 11\u001b[0m \u001b[38;5;28;01mfrom\u001b[39;00m \u001b[38;5;21;01mmzml_pdiff\u001b[39;00m \u001b[38;5;28;01mimport\u001b[39;00m load_from_csv\n\u001b[0;32m     12\u001b[0m \u001b[38;5;28;01mfrom\u001b[39;00m \u001b[38;5;21;01mmzml_pdiff\u001b[39;00m \u001b[38;5;28;01mimport\u001b[39;00m save_to_csv\n\u001b[0;32m     13\u001b[0m \u001b[38;5;28;01mfrom\u001b[39;00m \u001b[38;5;21;01mmzml_pdiff\u001b[39;00m \u001b[38;5;28;01mimport\u001b[39;00m process_file\n",
      "\u001b[1;31mModuleNotFoundError\u001b[0m: No module named 'mzml_pdiff'"
     ]
    }
   ],
   "source": [
    "import os\n",
    "import numpy as np\n",
    "import pandas as pd\n",
    "\n",
    "from pyopenms import MSExperiment, MzMLFile\n",
    "from concurrent.futures import ProcessPoolExecutor\n",
    "from tqdm import tqdm\n",
    "from matplotlib import pyplot as plt\n",
    "import pickle\n",
    "\n",
    "from mzml_pdiff import load_from_csv\n",
    "from mzml_pdiff import save_to_csv\n",
    "from mzml_pdiff import process_file"
   ]
  },
  {
   "cell_type": "code",
   "execution_count": null,
   "metadata": {},
   "outputs": [],
   "source": [
    "df_speclib = pd.read_csv(\"speclib_incl_34_36.tsv\", sep=\"\\t\")"
   ]
  },
  {
   "cell_type": "code",
   "execution_count": 2,
   "metadata": {},
   "outputs": [
    {
     "ename": "NameError",
     "evalue": "name 'df_speclib' is not defined",
     "output_type": "error",
     "traceback": [
      "\u001b[1;31m---------------------------------------------------------------------------\u001b[0m",
      "\u001b[1;31mNameError\u001b[0m                                 Traceback (most recent call last)",
      "Cell \u001b[1;32mIn[2], line 1\u001b[0m\n\u001b[1;32m----> 1\u001b[0m unique_peptidoform_df \u001b[38;5;241m=\u001b[39m \u001b[43mdf_speclib\u001b[49m\u001b[38;5;241m.\u001b[39mdrop_duplicates(\n\u001b[0;32m      2\u001b[0m     [\u001b[38;5;124m\"\u001b[39m\u001b[38;5;124mTr_recalibrated\u001b[39m\u001b[38;5;124m\"\u001b[39m, \u001b[38;5;124m\"\u001b[39m\u001b[38;5;124mFullUniModPeptideName\u001b[39m\u001b[38;5;124m\"\u001b[39m]\n\u001b[0;32m      3\u001b[0m )\n\u001b[0;32m      5\u001b[0m unique_peptidoform_df[\n\u001b[0;32m      6\u001b[0m     unique_peptidoform_df[\u001b[38;5;124m\"\u001b[39m\u001b[38;5;124mFullUniModPeptideName\u001b[39m\u001b[38;5;124m\"\u001b[39m]\u001b[38;5;241m.\u001b[39mstr\u001b[38;5;241m.\u001b[39mcontains(\u001b[38;5;124m\"\u001b[39m\u001b[38;5;124mUniMod:21\u001b[39m\u001b[38;5;124m\"\u001b[39m)\n\u001b[0;32m      7\u001b[0m ]\n",
      "\u001b[1;31mNameError\u001b[0m: name 'df_speclib' is not defined"
     ]
    }
   ],
   "source": [
    "unique_peptidoform_df = df_speclib.drop_duplicates(\n",
    "    [\"Tr_recalibrated\", \"FullUniModPeptideName\"]\n",
    ")\n",
    "\n",
    "unique_peptidoform_df[\n",
    "    unique_peptidoform_df[\"FullUniModPeptideName\"].str.contains(\"UniMod:21\")\n",
    "]"
   ]
  },
  {
   "cell_type": "code",
   "execution_count": 3,
   "metadata": {},
   "outputs": [
    {
     "ename": "NameError",
     "evalue": "name 'unique_peptidoform_df' is not defined",
     "output_type": "error",
     "traceback": [
      "\u001b[1;31m---------------------------------------------------------------------------\u001b[0m",
      "\u001b[1;31mNameError\u001b[0m                                 Traceback (most recent call last)",
      "Cell \u001b[1;32mIn[3], line 1\u001b[0m\n\u001b[1;32m----> 1\u001b[0m mod_sub_df \u001b[38;5;241m=\u001b[39m \u001b[43munique_peptidoform_df\u001b[49m[\n\u001b[0;32m      2\u001b[0m     unique_peptidoform_df[\u001b[38;5;124m\"\u001b[39m\u001b[38;5;124mPeptideSequence\u001b[39m\u001b[38;5;124m\"\u001b[39m] \u001b[38;5;241m==\u001b[39m \u001b[38;5;124m\"\u001b[39m\u001b[38;5;124mYYYTFDNSLLFTESIQNTTQIFPR\u001b[39m\u001b[38;5;124m\"\u001b[39m\n\u001b[0;32m      3\u001b[0m ]\n\u001b[0;32m      5\u001b[0m unmod_sub_df \u001b[38;5;241m=\u001b[39m unique_peptidoform_df[\n\u001b[0;32m      6\u001b[0m     unique_peptidoform_df[\u001b[38;5;124m\"\u001b[39m\u001b[38;5;124mFullUniModPeptideName\u001b[39m\u001b[38;5;124m\"\u001b[39m] \u001b[38;5;241m==\u001b[39m \u001b[38;5;124m\"\u001b[39m\u001b[38;5;124mYYYTFDNSLLFTESIQNTTQIFPR\u001b[39m\u001b[38;5;124m\"\u001b[39m\n\u001b[0;32m      7\u001b[0m ]\n",
      "\u001b[1;31mNameError\u001b[0m: name 'unique_peptidoform_df' is not defined"
     ]
    }
   ],
   "source": [
    "mod_sub_df = unique_peptidoform_df[\n",
    "    unique_peptidoform_df[\"PeptideSequence\"] == \"YYYTFDNSLLFTESIQNTTQIFPR\"\n",
    "]\n",
    "\n",
    "unmod_sub_df = unique_peptidoform_df[\n",
    "    unique_peptidoform_df[\"FullUniModPeptideName\"] == \"YYYTFDNSLLFTESIQNTTQIFPR\"\n",
    "]"
   ]
  },
  {
   "cell_type": "code",
   "execution_count": 4,
   "metadata": {},
   "outputs": [
    {
     "ename": "NameError",
     "evalue": "name 'mod_sub_df' is not defined",
     "output_type": "error",
     "traceback": [
      "\u001b[1;31m---------------------------------------------------------------------------\u001b[0m",
      "\u001b[1;31mNameError\u001b[0m                                 Traceback (most recent call last)",
      "Cell \u001b[1;32mIn[4], line 2\u001b[0m\n\u001b[0;32m      1\u001b[0m plt\u001b[38;5;241m.\u001b[39mscatter(\n\u001b[1;32m----> 2\u001b[0m     \u001b[43mmod_sub_df\u001b[49m[\u001b[38;5;124m\"\u001b[39m\u001b[38;5;124mTr_recalibrated\u001b[39m\u001b[38;5;124m\"\u001b[39m]\u001b[38;5;241m.\u001b[39mvalues,\n\u001b[0;32m      3\u001b[0m     \u001b[38;5;28mlist\u001b[39m(unmod_sub_df[\u001b[38;5;124m\"\u001b[39m\u001b[38;5;124mTr_recalibrated\u001b[39m\u001b[38;5;124m\"\u001b[39m]\u001b[38;5;241m.\u001b[39mvalues) \u001b[38;5;241m*\u001b[39m \u001b[38;5;28mlen\u001b[39m(mod_sub_df\u001b[38;5;241m.\u001b[39mindex),\n\u001b[0;32m      4\u001b[0m     alpha\u001b[38;5;241m=\u001b[39m\u001b[38;5;241m0.5\u001b[39m,\n\u001b[0;32m      5\u001b[0m )\n\u001b[0;32m      6\u001b[0m plt\u001b[38;5;241m.\u001b[39mscatter(\n\u001b[0;32m      7\u001b[0m     \u001b[38;5;28mlist\u001b[39m(unmod_sub_df[\u001b[38;5;124m\"\u001b[39m\u001b[38;5;124mTr_recalibrated\u001b[39m\u001b[38;5;124m\"\u001b[39m]\u001b[38;5;241m.\u001b[39mvalues) \u001b[38;5;241m*\u001b[39m \u001b[38;5;28mlen\u001b[39m(mod_sub_df\u001b[38;5;241m.\u001b[39mindex),\n\u001b[0;32m      8\u001b[0m     \u001b[38;5;28mlist\u001b[39m(unmod_sub_df[\u001b[38;5;124m\"\u001b[39m\u001b[38;5;124mTr_recalibrated\u001b[39m\u001b[38;5;124m\"\u001b[39m]\u001b[38;5;241m.\u001b[39mvalues) \u001b[38;5;241m*\u001b[39m \u001b[38;5;28mlen\u001b[39m(mod_sub_df\u001b[38;5;241m.\u001b[39mindex),\n\u001b[0;32m      9\u001b[0m     alpha\u001b[38;5;241m=\u001b[39m\u001b[38;5;241m0.5\u001b[39m,\n\u001b[0;32m     10\u001b[0m )\n",
      "\u001b[1;31mNameError\u001b[0m: name 'mod_sub_df' is not defined"
     ]
    }
   ],
   "source": [
    "plt.scatter(\n",
    "    mod_sub_df[\"Tr_recalibrated\"].values,\n",
    "    list(unmod_sub_df[\"Tr_recalibrated\"].values) * len(mod_sub_df.index),\n",
    "    alpha=0.5,\n",
    ")\n",
    "plt.scatter(\n",
    "    list(unmod_sub_df[\"Tr_recalibrated\"].values) * len(mod_sub_df.index),\n",
    "    list(unmod_sub_df[\"Tr_recalibrated\"].values) * len(mod_sub_df.index),\n",
    "    alpha=0.5,\n",
    ")"
   ]
  },
  {
   "cell_type": "code",
   "execution_count": 9,
   "metadata": {},
   "outputs": [
    {
     "data": {
      "text/html": [
       "<div>\n",
       "<style scoped>\n",
       "    .dataframe tbody tr th:only-of-type {\n",
       "        vertical-align: middle;\n",
       "    }\n",
       "\n",
       "    .dataframe tbody tr th {\n",
       "        vertical-align: top;\n",
       "    }\n",
       "\n",
       "    .dataframe thead th {\n",
       "        text-align: right;\n",
       "    }\n",
       "</style>\n",
       "<table border=\"1\" class=\"dataframe\">\n",
       "  <thead>\n",
       "    <tr style=\"text-align: right;\">\n",
       "      <th></th>\n",
       "      <th>Tr_recalibrated</th>\n",
       "      <th>FullUniModPeptideName</th>\n",
       "    </tr>\n",
       "  </thead>\n",
       "  <tbody>\n",
       "    <tr>\n",
       "      <th>260101364</th>\n",
       "      <td>98.351913</td>\n",
       "      <td>YYY(UniMod:21)TFDNSLLFTESIQNTT(UniMod:21)QIFPR</td>\n",
       "    </tr>\n",
       "    <tr>\n",
       "      <th>260101616</th>\n",
       "      <td>102.281010</td>\n",
       "      <td>YYYT(UniMod:21)FDNSLLFTESIQNTT(UniMod:21)QIFPR</td>\n",
       "    </tr>\n",
       "    <tr>\n",
       "      <th>260101076</th>\n",
       "      <td>102.440190</td>\n",
       "      <td>YY(UniMod:21)YTFDNSLLFTESIQNTT(UniMod:21)QIFPR</td>\n",
       "    </tr>\n",
       "    <tr>\n",
       "      <th>260100752</th>\n",
       "      <td>103.651290</td>\n",
       "      <td>Y(UniMod:21)YYTFDNSLLFTESIQNTT(UniMod:21)QIFPR</td>\n",
       "    </tr>\n",
       "    <tr>\n",
       "      <th>260100860</th>\n",
       "      <td>104.634000</td>\n",
       "      <td>YY(UniMod:21)Y(UniMod:21)TFDNSLLFTESIQNTTQIFPR</td>\n",
       "    </tr>\n",
       "    <tr>\n",
       "      <th>...</th>\n",
       "      <td>...</td>\n",
       "      <td>...</td>\n",
       "    </tr>\n",
       "    <tr>\n",
       "      <th>260102048</th>\n",
       "      <td>129.795100</td>\n",
       "      <td>YYYTFDNSLLFT(UniMod:21)ESIQNTTQIFPR(UniMod:34)</td>\n",
       "    </tr>\n",
       "    <tr>\n",
       "      <th>260102084</th>\n",
       "      <td>129.795100</td>\n",
       "      <td>YYYTFDNSLLFT(UniMod:21)ESIQNTTQIFPR(UniMod:36)</td>\n",
       "    </tr>\n",
       "    <tr>\n",
       "      <th>260100248</th>\n",
       "      <td>136.293620</td>\n",
       "      <td>YYYTFDNS(UniMod:21)LLFTESIQNTTQIFPR</td>\n",
       "    </tr>\n",
       "    <tr>\n",
       "      <th>260101868</th>\n",
       "      <td>136.293620</td>\n",
       "      <td>YYYTFDNS(UniMod:21)LLFTESIQNTTQIFPR(UniMod:34)</td>\n",
       "    </tr>\n",
       "    <tr>\n",
       "      <th>260101904</th>\n",
       "      <td>136.293620</td>\n",
       "      <td>YYYTFDNS(UniMod:21)LLFTESIQNTTQIFPR(UniMod:36)</td>\n",
       "    </tr>\n",
       "  </tbody>\n",
       "</table>\n",
       "<p>66 rows × 2 columns</p>\n",
       "</div>"
      ],
      "text/plain": [
       "           Tr_recalibrated                           FullUniModPeptideName\n",
       "260101364        98.351913  YYY(UniMod:21)TFDNSLLFTESIQNTT(UniMod:21)QIFPR\n",
       "260101616       102.281010  YYYT(UniMod:21)FDNSLLFTESIQNTT(UniMod:21)QIFPR\n",
       "260101076       102.440190  YY(UniMod:21)YTFDNSLLFTESIQNTT(UniMod:21)QIFPR\n",
       "260100752       103.651290  Y(UniMod:21)YYTFDNSLLFTESIQNTT(UniMod:21)QIFPR\n",
       "260100860       104.634000  YY(UniMod:21)Y(UniMod:21)TFDNSLLFTESIQNTTQIFPR\n",
       "...                    ...                                             ...\n",
       "260102048       129.795100  YYYTFDNSLLFT(UniMod:21)ESIQNTTQIFPR(UniMod:34)\n",
       "260102084       129.795100  YYYTFDNSLLFT(UniMod:21)ESIQNTTQIFPR(UniMod:36)\n",
       "260100248       136.293620             YYYTFDNS(UniMod:21)LLFTESIQNTTQIFPR\n",
       "260101868       136.293620  YYYTFDNS(UniMod:21)LLFTESIQNTTQIFPR(UniMod:34)\n",
       "260101904       136.293620  YYYTFDNS(UniMod:21)LLFTESIQNTTQIFPR(UniMod:36)\n",
       "\n",
       "[66 rows x 2 columns]"
      ]
     },
     "execution_count": 9,
     "metadata": {},
     "output_type": "execute_result"
    }
   ],
   "source": [
    "mod_sub_df[[\"Tr_recalibrated\", \"FullUniModPeptideName\"]].sort_values(\"Tr_recalibrated\")"
   ]
  },
  {
   "cell_type": "code",
   "execution_count": null,
   "metadata": {},
   "outputs": [],
   "source": []
  }
 ],
 "metadata": {
  "kernelspec": {
   "display_name": "Python 3 (ipykernel)",
   "language": "python",
   "name": "python3"
  },
  "language_info": {
   "codemirror_mode": {
    "name": "ipython",
    "version": 3
   },
   "file_extension": ".py",
   "mimetype": "text/x-python",
   "name": "python",
   "nbconvert_exporter": "python",
   "pygments_lexer": "ipython3",
   "version": "3.10.12"
  }
 },
 "nbformat": 4,
 "nbformat_minor": 4
}
